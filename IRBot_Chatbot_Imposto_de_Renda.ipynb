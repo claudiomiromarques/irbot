{
 "cells": [
  {
   "cell_type": "markdown",
   "metadata": {},
   "source": [
    "# 💰 IRBot - Assistente de Imposto de Renda com IA (Gemini)\n",
    "\n",
    "Este notebook cria um assistente virtual (chatbot) especializado em Imposto de Renda Pessoa Física (IRPF) no Brasil, utilizando o modelo Gemini da Google.\n",
    "O objetivo é fornecer respostas educativas e claras para pessoas leigas, em linguagem simples."
   ]
  },
  {
   "cell_type": "code",
   "execution_count": null,
   "metadata": {},
   "outputs": [],
   "source": [
    "# 📦 Instale a biblioteca necessária\n",
    "!pip install -q google-generativeai"
   ]
  },
  {
   "cell_type": "code",
   "execution_count": null,
   "metadata": {},
   "outputs": [],
   "source": []
  },
  {
   "cell_type": "code",
   "execution_count": null,
   "metadata": {},
   "outputs": [],
   "source": [
    "# 🔧 Importações e configuração da API\n",
    "import google.generativeai as genai\n",
    "from IPython.display import display, Markdown\n",
    "import os\n",
    "from google.colab import userdata\n",
    "\n",
    "# Configure sua chave da API Gemini\n",
    "os.environ['GOOGLE_API_KEY'] = userdata.get('GOOGLE_API_KEY')\n",
    "genai.configure(api_key=os.environ['GOOGLE_API_KEY'])"
   ]
  },
  {
   "cell_type": "code",
   "execution_count": null,
   "metadata": {},
   "outputs": [],
   "source": [
    "# 🤖 Inicialize o modelo Gemini\n",
    "model = genai.GenerativeModel(model_name=\"gemini-2.0-flash\")"
   ]
  },
  {
   "cell_type": "code",
   "execution_count": null,
   "metadata": {},
   "outputs": [],
   "source": [
    "# 💬 Função do chatbot\n",
    "def chat_ir_bot(pergunta, history=[]):\n",
    "    chat = model.start_chat(history=history)\n",
    "    prompt = f\"\"\"\n",
    "    Você é um assistente virtual especialista em tributos que ajuda pessoas a entender e a fazer a declaração do Imposto de Renda Pessoa Física (IRPF) no Brasil.  \n",
    "    Explique de forma simples e direta, como se estivesse conversando com alguém que não entende nada do assunto.  \n",
    "    Evite termos técnicos sempre que possível e não dê conselhos ilegais.  \n",
    "    Seja claro, confiável e educativo em todas as respostas.\n",
    "    \n",
    "    Pergunta: {pergunta}\n",
    "    \"\"\"\n",
    "    resposta = chat.send_message(prompt)\n",
    "    return resposta.text, chat.history"
   ]
  },
  {
   "cell_type": "code",
   "execution_count": null,
   "metadata": {},
   "outputs": [],
   "source": [
    "# ▶️ Interface simples de conversa\n",
    "history = []\n",
    "print(\"💰 IRBot: Olá! Sou seu assistente para dúvidas sobre o Imposto de Renda. Como posso ajudar?\\n\")\n",
    "\n",
    "while True:\n",
    "    pergunta = input(\"Você: \")\n",
    "    if pergunta.lower() in [\"sair\", \"exit\", \"fim\"]:\n",
    "        print(\"💰 IRBot: Até mais! Lembre-se de declarar dentro do prazo 😉\")\n",
    "        break\n",
    "    resposta, history = chat_ir_bot(pergunta, history)\n",
    "    display(Markdown(f\"**💰 IRBot:** {resposta}\"))"
   ]
  }
 ],
 "metadata": {
  "kernelspec": {
   "display_name": "Python 3",
   "language": "python",
   "name": "python3"
  },
  "language_info": {
   "codemirror_mode": {
    "name": "ipython",
    "version": 3
   },
   "file_extension": ".py",
   "mimetype": "text/x-python",
   "name": "python",
   "nbconvert_exporter": "python",
   "pygments_lexer": "ipython3",
   "version": "3.10.5"
  }
 },
 "nbformat": 4,
 "nbformat_minor": 2
}
